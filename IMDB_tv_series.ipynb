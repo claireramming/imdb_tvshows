{
 "cells": [
  {
   "cell_type": "code",
   "execution_count": 3,
   "metadata": {
    "collapsed": true
   },
   "outputs": [],
   "source": [
    "import matplotlib.pyplot as plt\n",
    "import pandas as pd\n",
    "import numpy as np\n",
    "import seaborn as sns\n",
    "%matplotlib inline\n",
    "filename1= 'title.basics.tsv.gz'\n",
    "filename2 = 'title.episode.tsv.gz'"
   ]
  },
  {
   "cell_type": "code",
   "execution_count": 7,
   "metadata": {},
   "outputs": [
    {
     "name": "stderr",
     "output_type": "stream",
     "text": [
      "/Users/claireramming/Applications/anaconda/lib/python3.6/site-packages/IPython/core/interactiveshell.py:2717: DtypeWarning: Columns (7) have mixed types. Specify dtype option on import or set low_memory=False.\n",
      "  interactivity=interactivity, compiler=compiler, result=result)\n"
     ]
    },
    {
     "name": "stdout",
     "output_type": "stream",
     "text": [
      "      tconst titleType            primaryTitle           originalTitle  \\\n",
      "0  tt0000001     short              Carmencita              Carmencita   \n",
      "1  tt0000002     short  Le clown et ses chiens  Le clown et ses chiens   \n",
      "2  tt0000003     short          Pauvre Pierrot          Pauvre Pierrot   \n",
      "3  tt0000004     short             Un bon bock             Un bon bock   \n",
      "4  tt0000005     short        Blacksmith Scene        Blacksmith Scene   \n",
      "\n",
      "   isAdult  startYear  endYear runtimeMinutes                    genres  \n",
      "0        0     1894.0      NaN              1         Documentary,Short  \n",
      "1        0     1892.0      NaN              5           Animation,Short  \n",
      "2        0     1892.0      NaN              4  Animation,Comedy,Romance  \n",
      "3        0     1892.0      NaN            NaN           Animation,Short  \n",
      "4        0     1893.0      NaN              1                     Short  \n",
      "      tconst parentTconst  seasonNumber  episodeNumber\n",
      "0  tt0041951    tt0041038           1.0            9.0\n",
      "1  tt0042816    tt0989125           1.0           17.0\n",
      "2  tt0042889    tt0989125           NaN            NaN\n",
      "3  tt0043426    tt0040051           3.0           42.0\n",
      "4  tt0043631    tt0989125           2.0           16.0\n"
     ]
    }
   ],
   "source": [
    "dftv = pd.read_table(filename1,compression='gzip',sep='\\t', na_values='\\\\N')\n",
    "dfeps = pd.read_table(filename2,compression='gzip',sep='\\t', na_values='\\\\N')\n",
    "\n",
    "print(dftv.head())\n",
    "print(dfeps.head())"
   ]
  },
  {
   "cell_type": "code",
   "execution_count": 8,
   "metadata": {},
   "outputs": [
    {
     "name": "stdout",
     "output_type": "stream",
     "text": [
      "<class 'pandas.core.frame.DataFrame'>\n",
      "RangeIndex: 131293 entries, 0 to 131292\n",
      "Data columns (total 7 columns):\n",
      "tconst            131293 non-null object\n",
      "primaryTitle      131293 non-null object\n",
      "isAdult           131293 non-null int64\n",
      "startYear         131293 non-null int64\n",
      "endYear           131293 non-null int64\n",
      "runtimeMinutes    131293 non-null int64\n",
      "genres            131293 non-null object\n",
      "dtypes: int64(4), object(3)\n",
      "memory usage: 7.0+ MB\n"
     ]
    }
   ],
   "source": [
    "#df.titleType.unique()\n",
    "# & (df.startYear > 1967)\n",
    "#limit to just TV series info from last 50 years\n",
    "tv = dftv[(dftv.titleType == 'tvSeries') & (dftv.startYear > 1967)]\n",
    "\n",
    "#reset index\n",
    "tv.reset_index(inplace=True)\n",
    "\n",
    "#limit to only needed columns\n",
    "tv=tv[['tconst', 'primaryTitle', 'isAdult', 'startYear', 'endYear', 'runtimeMinutes', 'genres']] \n",
    "\n",
    "#fill NA with zero so we can convert to integers\n",
    "tv.fillna(0, inplace=True)\n",
    "#change data types\n",
    "tv = tv.astype({'startYear':np.int64, 'endYear':np.int64, 'runtimeMinutes':np.int64})\n",
    "tv.info()"
   ]
  },
  {
   "cell_type": "code",
   "execution_count": 9,
   "metadata": {},
   "outputs": [
    {
     "data": {
      "image/png": "[encoded data removed]",
      "text/plain": [
       "<matplotlib.figure.Figure at 0x160fa92b0>"
      ]
     },
     "metadata": {},
     "output_type": "display_data"
    }
   ],
   "source": [
    "p = plt.plot(tv.tconst.groupby(tv.startYear).count())\n",
    "plt.show()"
   ]
  },
  {
   "cell_type": "code",
   "execution_count": 11,
   "metadata": {},
   "outputs": [
    {
     "data": {
      "text/plain": [
       "genres\n",
       "Action                        805\n",
       "Action,Adult                    3\n",
       "Action,Adult,Horror             1\n",
       "Action,Adventure               44\n",
       "Action,Adventure,Animation    589\n",
       "Name: tconst, dtype: int64"
      ]
     },
     "execution_count": 11,
     "metadata": {},
     "output_type": "execute_result"
    }
   ],
   "source": [
    "tv.genres.replace(0,'None', inplace=True)\n",
    "tv.tconst.groupby(tv.genres).count().head()"
   ]
  },
  {
   "cell_type": "code",
   "execution_count": 31,
   "metadata": {},
   "outputs": [],
   "source": [
    "from collections import defaultdict\n",
    "from collections import Counter\n",
    "\n",
    "genrecount= Counter()\n",
    "genres_dict = defaultdict(list)\n",
    "for index, genres in tv.genres.iteritems():\n",
    "    str(genres)\n",
    "    genres = genres.split(',')\n",
    "    for genre in genres:\n",
    "        genrecount[genre] += 1\n",
    "        genres_dict[index1].append(genre)"
   ]
  },
  {
   "cell_type": "code",
   "execution_count": 40,
   "metadata": {},
   "outputs": [
    {
     "data": {
      "image/png": "[encoded data removed]",
      "text/plain": [
       "<matplotlib.figure.Figure at 0x1c3c21390>"
      ]
     },
     "metadata": {},
     "output_type": "display_data"
    }
   ],
   "source": [
    "#barplot of genres\n",
    "labels, values = zip(*genrecount.most_common())\n",
    "indexes = np.arange(len(labels))\n",
    "\n",
    "plt.figure(figsize=(10,5))\n",
    "plt.title('TV Show Genres 1968-2021')\n",
    "\n",
    "plt.bar(indexes, values)\n",
    "plt.xticks(indexes, labels, rotation=70)\n",
    "plt.show()"
   ]
  },
  {
   "cell_type": "code",
   "execution_count": 18,
   "metadata": {},
   "outputs": [
    {
     "data": {
      "text/html": [
       "<div>\n",
       "<style>\n",
       "    .dataframe thead tr:only-child th {\n",
       "        text-align: right;\n",
       "    }\n",
       "\n",
       "    .dataframe thead th {\n",
       "        text-align: left;\n",
       "    }\n",
       "\n",
       "    .dataframe tbody tr th {\n",
       "        vertical-align: top;\n",
       "    }\n",
       "</style>\n",
       "<table border=\"1\" class=\"dataframe\">\n",
       "  <thead>\n",
       "    <tr style=\"text-align: right;\">\n",
       "      <th></th>\n",
       "      <th>tconst</th>\n",
       "      <th>parentTconst</th>\n",
       "      <th>seasonNumber</th>\n",
       "      <th>episodeNumber</th>\n",
       "    </tr>\n",
       "  </thead>\n",
       "  <tbody>\n",
       "    <tr>\n",
       "      <th>0</th>\n",
       "      <td>tt0041951</td>\n",
       "      <td>tt0041038</td>\n",
       "      <td>1.0</td>\n",
       "      <td>9.0</td>\n",
       "    </tr>\n",
       "    <tr>\n",
       "      <th>1</th>\n",
       "      <td>tt0042816</td>\n",
       "      <td>tt0989125</td>\n",
       "      <td>1.0</td>\n",
       "      <td>17.0</td>\n",
       "    </tr>\n",
       "    <tr>\n",
       "      <th>3</th>\n",
       "      <td>tt0043426</td>\n",
       "      <td>tt0040051</td>\n",
       "      <td>3.0</td>\n",
       "      <td>42.0</td>\n",
       "    </tr>\n",
       "    <tr>\n",
       "      <th>4</th>\n",
       "      <td>tt0043631</td>\n",
       "      <td>tt0989125</td>\n",
       "      <td>2.0</td>\n",
       "      <td>16.0</td>\n",
       "    </tr>\n",
       "    <tr>\n",
       "      <th>5</th>\n",
       "      <td>tt0043693</td>\n",
       "      <td>tt0989125</td>\n",
       "      <td>2.0</td>\n",
       "      <td>8.0</td>\n",
       "    </tr>\n",
       "  </tbody>\n",
       "</table>\n",
       "</div>"
      ],
      "text/plain": [
       "      tconst parentTconst  seasonNumber  episodeNumber\n",
       "0  tt0041951    tt0041038           1.0            9.0\n",
       "1  tt0042816    tt0989125           1.0           17.0\n",
       "3  tt0043426    tt0040051           3.0           42.0\n",
       "4  tt0043631    tt0989125           2.0           16.0\n",
       "5  tt0043693    tt0989125           2.0            8.0"
      ]
     },
     "execution_count": 18,
     "metadata": {},
     "output_type": "execute_result"
    }
   ],
   "source": [
    "#find out how many seasons for each show, maybe then do breakdown by genre/histogram by genre\n",
    "#number of comedies by year? overall genres by year? Might find interesting peaks\n",
    "#get some interactive graphs going with bokeh! sliders!\n",
    "eps = dfeps.dropna()\n",
    "eps.head()"
   ]
  },
  {
   "cell_type": "code",
   "execution_count": 21,
   "metadata": {},
   "outputs": [
    {
     "data": {
      "text/plain": [
       "pandas.core.series.Series"
      ]
     },
     "execution_count": 21,
     "metadata": {},
     "output_type": "execute_result"
    }
   ],
   "source": [
    "pd.DataFrame(eps.seasonNumber.groupby(eps.parentTconst).max())"
   ]
  },
  {
   "cell_type": "code",
   "execution_count": null,
   "metadata": {},
   "outputs": [],
   "source": []
  },
  {
   "cell_type": "code",
   "execution_count": null,
   "metadata": {},
   "outputs": [],
   "source": []
  },
  {
   "cell_type": "code",
   "execution_count": null,
   "metadata": {
    "collapsed": true
   },
   "outputs": [],
   "source": []
  }
 ],
 "metadata": {
  "kernelspec": {
   "display_name": "Python 3",
   "language": "python",
   "name": "python3"
  },
  "language_info": {
   "codemirror_mode": {
    "name": "ipython",
    "version": 3
   },
   "file_extension": ".py",
   "mimetype": "text/x-python",
   "name": "python",
   "nbconvert_exporter": "python",
   "pygments_lexer": "ipython3",
   "version": "3.6.1"
  }
 },
 "nbformat": 4,
 "nbformat_minor": 2
}
